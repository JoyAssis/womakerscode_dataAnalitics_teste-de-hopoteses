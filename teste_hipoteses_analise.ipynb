{
 "cells": [
  {
   "cell_type": "markdown",
   "id": "07f71e2c",
   "metadata": {},
   "source": [
    "# Teste de Hipóteses - Análise Estatística com Python"
   ]
  },
  {
   "cell_type": "code",
   "execution_count": 3,
   "id": "8cd0a269",
   "metadata": {},
   "outputs": [
    {
     "ename": "ModuleNotFoundError",
     "evalue": "No module named 'pandas'",
     "output_type": "error",
     "traceback": [
      "\u001b[31m---------------------------------------------------------------------------\u001b[39m",
      "\u001b[31mModuleNotFoundError\u001b[39m                       Traceback (most recent call last)",
      "\u001b[36mCell\u001b[39m\u001b[36m \u001b[39m\u001b[32mIn[3]\u001b[39m\u001b[32m, line 1\u001b[39m\n\u001b[32m----> \u001b[39m\u001b[32m1\u001b[39m \u001b[38;5;28;01mimport\u001b[39;00m\u001b[38;5;250m \u001b[39m\u001b[34;01mpandas\u001b[39;00m\u001b[38;5;250m \u001b[39m\u001b[38;5;28;01mas\u001b[39;00m\u001b[38;5;250m \u001b[39m\u001b[34;01mpd\u001b[39;00m\n\u001b[32m      2\u001b[39m \u001b[38;5;28;01mimport\u001b[39;00m\u001b[38;5;250m \u001b[39m\u001b[34;01mnumpy\u001b[39;00m\u001b[38;5;250m \u001b[39m\u001b[38;5;28;01mas\u001b[39;00m\u001b[38;5;250m \u001b[39m\u001b[34;01mnp\u001b[39;00m\n\u001b[32m      3\u001b[39m \u001b[38;5;28;01mfrom\u001b[39;00m\u001b[38;5;250m \u001b[39m\u001b[34;01mscipy\u001b[39;00m\u001b[34;01m.\u001b[39;00m\u001b[34;01mstats\u001b[39;00m\u001b[38;5;250m \u001b[39m\u001b[38;5;28;01mimport\u001b[39;00m ttest_1samp, ttest_ind, f_oneway, chi2_contingency, pearsonr, t, shapiro, norm\n",
      "\u001b[31mModuleNotFoundError\u001b[39m: No module named 'pandas'"
     ]
    }
   ],
   "source": [
    "import pandas as pd\n",
    "import numpy as np\n",
    "from scipy.stats import ttest_1samp, ttest_ind, f_oneway, chi2_contingency, pearsonr, t, shapiro, norm\n",
    "\n",
    "# Carregando os dados\n",
    "experimento_df = pd.read_csv('experimento_teste_ab.csv')\n",
    "pacientes_df = pd.read_csv('pacientes.csv')"
   ]
  },
  {
   "cell_type": "markdown",
   "id": "7ede1776",
   "metadata": {},
   "source": [
    "## Exercício 1: Maior taxa de conversão"
   ]
  },
  {
   "cell_type": "code",
   "execution_count": 4,
   "id": "5088a369",
   "metadata": {},
   "outputs": [
    {
     "ename": "NameError",
     "evalue": "name 'experimento_df' is not defined",
     "output_type": "error",
     "traceback": [
      "\u001b[31m---------------------------------------------------------------------------\u001b[39m",
      "\u001b[31mNameError\u001b[39m                                 Traceback (most recent call last)",
      "\u001b[36mCell\u001b[39m\u001b[36m \u001b[39m\u001b[32mIn[4]\u001b[39m\u001b[32m, line 1\u001b[39m\n\u001b[32m----> \u001b[39m\u001b[32m1\u001b[39m agrupado = \u001b[43mexperimento_df\u001b[49m.groupby(\u001b[33m'\u001b[39m\u001b[33mVersão_Página\u001b[39m\u001b[33m'\u001b[39m).agg(\n\u001b[32m      2\u001b[39m     total_visualizacoes=(\u001b[33m'\u001b[39m\u001b[33mVisualizações\u001b[39m\u001b[33m'\u001b[39m, \u001b[33m'\u001b[39m\u001b[33msum\u001b[39m\u001b[33m'\u001b[39m),\n\u001b[32m      3\u001b[39m     total_conversoes=(\u001b[33m'\u001b[39m\u001b[33mConversões\u001b[39m\u001b[33m'\u001b[39m, \u001b[33m'\u001b[39m\u001b[33msum\u001b[39m\u001b[33m'\u001b[39m)\n\u001b[32m      4\u001b[39m )\n\u001b[32m      5\u001b[39m agrupado[\u001b[33m'\u001b[39m\u001b[33mtaxa_conversao_\u001b[39m\u001b[33m%\u001b[39m\u001b[33m'\u001b[39m] = (agrupado[\u001b[33m'\u001b[39m\u001b[33mtotal_conversoes\u001b[39m\u001b[33m'\u001b[39m] / agrupado[\u001b[33m'\u001b[39m\u001b[33mtotal_visualizacoes\u001b[39m\u001b[33m'\u001b[39m]) * \u001b[32m100\u001b[39m\n\u001b[32m      6\u001b[39m agrupado\n",
      "\u001b[31mNameError\u001b[39m: name 'experimento_df' is not defined"
     ]
    }
   ],
   "source": [
    "agrupado = experimento_df.groupby('Versão_Página').agg(\n",
    "    total_visualizacoes=('Visualizações', 'sum'),\n",
    "    total_conversoes=('Conversões', 'sum')\n",
    ")\n",
    "agrupado['taxa_conversao_%'] = (agrupado['total_conversoes'] / agrupado['total_visualizacoes']) * 100\n",
    "agrupado"
   ]
  },
  {
   "cell_type": "markdown",
   "id": "545cb14b",
   "metadata": {},
   "source": [
    "## Exercício 2: Cálculo do tamanho da amostra"
   ]
  },
  {
   "cell_type": "code",
   "execution_count": null,
   "id": "6aaffa07",
   "metadata": {},
   "outputs": [],
   "source": [
    "p1 = agrupado.loc['A', 'taxa_conversao_%'] / 100\n",
    "p2 = 0.10\n",
    "p_bar = (p1 + p2) / 2\n",
    "z_alpha = norm.ppf(1 - 0.05 / 2)\n",
    "z_beta = norm.ppf(0.80)\n",
    "n = (2 * ((z_alpha + z_beta)**2) * p_bar * (1 - p_bar)) / (p2 - p1)**2\n",
    "round(n)"
   ]
  },
  {
   "cell_type": "markdown",
   "id": "ba3c3547",
   "metadata": {},
   "source": [
    "## Exercício 3: Teste t para média de idades"
   ]
  },
  {
   "cell_type": "code",
   "execution_count": null,
   "id": "94d7a3e7",
   "metadata": {},
   "outputs": [],
   "source": [
    "indices_amostra = [909, 751, 402, 400, 726, 39, 184, 269, 255, 769, 209, 715, 677, 381,\n",
    "793, 697, 89, 280, 232, 756, 358, 36, 439, 768, 967, 699, 473, 222, 89, 639, 883,\n",
    "558, 757, 84, 907, 895, 217, 224, 311, 348, 146, 505, 273, 957, 362]\n",
    "amostra_idades = pacientes_df.loc[indices_amostra, 'Idade']\n",
    "t_stat, p_bi = ttest_1samp(amostra_idades, popmean=50)\n",
    "p_uni = p_bi / 2\n",
    "amostra_idades.mean(), t_stat, p_uni"
   ]
  },
  {
   "cell_type": "markdown",
   "id": "4bc1e901",
   "metadata": {},
   "source": [
    "## Exercício 4: Tipo de Amostra"
   ]
  },
  {
   "cell_type": "markdown",
   "id": "c257c745",
   "metadata": {},
   "source": [
    "A amostra é **independente**, pois compara dois grupos distintos sem pareamento."
   ]
  },
  {
   "cell_type": "markdown",
   "id": "75767859",
   "metadata": {},
   "source": [
    "## Exercício 5: Teste t entre dois grupos"
   ]
  },
  {
   "cell_type": "code",
   "execution_count": null,
   "id": "dbc0cf3a",
   "metadata": {},
   "outputs": [],
   "source": [
    "indices_5 = [690, 894, 67, 201, 364, 19, 60, 319, 588, 643, 855, 623, 530, 174,\n",
    "105, 693, 6, 462, 973, 607, 811, 346, 354, 966, 943, 372]\n",
    "amostra_5 = pacientes_df.loc[indices_5]\n",
    "grupo_cond = amostra_5[amostra_5['Estado_Saude'] == 1]['Pressao_Arterial']\n",
    "grupo_saud = amostra_5[amostra_5['Estado_Saude'] == 0]['Pressao_Arterial']\n",
    "t_stat, p_valor = ttest_ind(grupo_cond, grupo_saud, equal_var=False)\n",
    "grupo_cond.mean(), grupo_saud.mean(), t_stat, p_valor"
   ]
  },
  {
   "cell_type": "markdown",
   "id": "568519f7",
   "metadata": {},
   "source": [
    "## Exercício 6: Teste ANOVA"
   ]
  },
  {
   "cell_type": "code",
   "execution_count": null,
   "id": "88faa01b",
   "metadata": {},
   "outputs": [],
   "source": [
    "grupos_etnia = pacientes_df['Nome_Etnia'].unique()\n",
    "dados_etnia = [pacientes_df[pacientes_df['Nome_Etnia'] == e]['Pressao_Arterial'] for e in grupos_etnia]\n",
    "f_stat, p_valor = f_oneway(*dados_etnia)\n",
    "f_stat, p_valor"
   ]
  },
  {
   "cell_type": "markdown",
   "id": "c790ec30",
   "metadata": {},
   "source": [
    "## Exercício 7: Teste Qui-Quadrado"
   ]
  },
  {
   "cell_type": "code",
   "execution_count": null,
   "id": "95edd207",
   "metadata": {},
   "outputs": [],
   "source": [
    "contingencia = pd.crosstab(pacientes_df['Nome_Genero'], pacientes_df['Nome_Estado_Saude'])\n",
    "chi2, p, dof, expected = chi2_contingency(contingencia)\n",
    "contingencia, chi2, p"
   ]
  },
  {
   "cell_type": "markdown",
   "id": "041945f4",
   "metadata": {},
   "source": [
    "## Exercício 8: Correlação entre idade e pressão arterial"
   ]
  },
  {
   "cell_type": "code",
   "execution_count": null,
   "id": "f01c9c08",
   "metadata": {},
   "outputs": [],
   "source": [
    "correlacao, p_valor = pearsonr(pacientes_df['Idade'], pacientes_df['Pressao_Arterial'])\n",
    "correlacao, p_valor"
   ]
  },
  {
   "cell_type": "markdown",
   "id": "506126c8",
   "metadata": {},
   "source": [
    "## Exercício 9: Intervalo de confiança para pressão arterial"
   ]
  },
  {
   "cell_type": "code",
   "execution_count": null,
   "id": "65dc31be",
   "metadata": {},
   "outputs": [],
   "source": [
    "grupo = pacientes_df[pacientes_df['Estado_Saude'] == 1]['Pressao_Arterial']\n",
    "media = grupo.mean()\n",
    "std = grupo.std()\n",
    "n = grupo.count()\n",
    "t_crit = t.ppf(1 - 0.05/2, df=n-1)\n",
    "margem = t_crit * (std / np.sqrt(n))\n",
    "(media - margem, media + margem)"
   ]
  },
  {
   "cell_type": "markdown",
   "id": "7dfa3828",
   "metadata": {},
   "source": [
    "## Exercício 10: Teste de normalidade (Shapiro-Wilk)"
   ]
  },
  {
   "cell_type": "code",
   "execution_count": null,
   "id": "f65066b0",
   "metadata": {},
   "outputs": [],
   "source": [
    "shapiro(pacientes_df['Pressao_Arterial'])"
   ]
  }
 ],
 "metadata": {
  "kernelspec": {
   "display_name": "Python 3",
   "language": "python",
   "name": "python3"
  },
  "language_info": {
   "codemirror_mode": {
    "name": "ipython",
    "version": 3
   },
   "file_extension": ".py",
   "mimetype": "text/x-python",
   "name": "python",
   "nbconvert_exporter": "python",
   "pygments_lexer": "ipython3",
   "version": "3.13.2"
  }
 },
 "nbformat": 4,
 "nbformat_minor": 5
}
