{
  "cells": [
    {
      "cell_type": "markdown",
      "metadata": {
        "id": "view-in-github",
        "colab_type": "text"
      },
      "source": [
        "<a href=\"https://colab.research.google.com/github/JoyAssis/womakerscode_dataAnalitics_teste-de-hopoteses/blob/main/teste_hipoteses_analise.ipynb\" target=\"_parent\"><img src=\"https://colab.research.google.com/assets/colab-badge.svg\" alt=\"Open In Colab\"/></a>"
      ]
    },
    {
      "cell_type": "markdown",
      "id": "07f71e2c",
      "metadata": {
        "id": "07f71e2c"
      },
      "source": [
        "# Teste de Hipóteses - Análise Estatística com Python"
      ]
    },
    {
      "cell_type": "code",
      "execution_count": 1,
      "id": "8cd0a269",
      "metadata": {
        "id": "8cd0a269"
      },
      "outputs": [],
      "source": [
        "import pandas as pd\n",
        "import numpy as np\n",
        "from scipy.stats import ttest_1samp, ttest_ind, f_oneway, chi2_contingency, pearsonr, t, shapiro, norm\n",
        "\n",
        "# Carregando os dados\n",
        "experimento_df = pd.read_csv('/content/experimento_teste_ab.csv')\n",
        "pacientes_df = pd.read_csv('/content/pacientes.csv')"
      ]
    },
    {
      "cell_type": "markdown",
      "id": "7ede1776",
      "metadata": {
        "id": "7ede1776"
      },
      "source": [
        "## Exercício 1: Maior taxa de conversão"
      ]
    },
    {
      "cell_type": "code",
      "execution_count": 2,
      "id": "5088a369",
      "metadata": {
        "colab": {
          "base_uri": "https://localhost:8080/",
          "height": 143
        },
        "id": "5088a369",
        "outputId": "47a16f74-7a01-4a86-f953-2fbde447358f"
      },
      "outputs": [
        {
          "output_type": "execute_result",
          "data": {
            "text/plain": [
              "               total_visualizacoes  total_conversoes  taxa_conversao_%\n",
              "Versão_Página                                                         \n",
              "A                           150835               105          0.069612\n",
              "B                           150676               125          0.082959"
            ],
            "text/html": [
              "\n",
              "  <div id=\"df-60385c89-297a-4836-94c1-086f77762e1b\" class=\"colab-df-container\">\n",
              "    <div>\n",
              "<style scoped>\n",
              "    .dataframe tbody tr th:only-of-type {\n",
              "        vertical-align: middle;\n",
              "    }\n",
              "\n",
              "    .dataframe tbody tr th {\n",
              "        vertical-align: top;\n",
              "    }\n",
              "\n",
              "    .dataframe thead th {\n",
              "        text-align: right;\n",
              "    }\n",
              "</style>\n",
              "<table border=\"1\" class=\"dataframe\">\n",
              "  <thead>\n",
              "    <tr style=\"text-align: right;\">\n",
              "      <th></th>\n",
              "      <th>total_visualizacoes</th>\n",
              "      <th>total_conversoes</th>\n",
              "      <th>taxa_conversao_%</th>\n",
              "    </tr>\n",
              "    <tr>\n",
              "      <th>Versão_Página</th>\n",
              "      <th></th>\n",
              "      <th></th>\n",
              "      <th></th>\n",
              "    </tr>\n",
              "  </thead>\n",
              "  <tbody>\n",
              "    <tr>\n",
              "      <th>A</th>\n",
              "      <td>150835</td>\n",
              "      <td>105</td>\n",
              "      <td>0.069612</td>\n",
              "    </tr>\n",
              "    <tr>\n",
              "      <th>B</th>\n",
              "      <td>150676</td>\n",
              "      <td>125</td>\n",
              "      <td>0.082959</td>\n",
              "    </tr>\n",
              "  </tbody>\n",
              "</table>\n",
              "</div>\n",
              "    <div class=\"colab-df-buttons\">\n",
              "\n",
              "  <div class=\"colab-df-container\">\n",
              "    <button class=\"colab-df-convert\" onclick=\"convertToInteractive('df-60385c89-297a-4836-94c1-086f77762e1b')\"\n",
              "            title=\"Convert this dataframe to an interactive table.\"\n",
              "            style=\"display:none;\">\n",
              "\n",
              "  <svg xmlns=\"http://www.w3.org/2000/svg\" height=\"24px\" viewBox=\"0 -960 960 960\">\n",
              "    <path d=\"M120-120v-720h720v720H120Zm60-500h600v-160H180v160Zm220 220h160v-160H400v160Zm0 220h160v-160H400v160ZM180-400h160v-160H180v160Zm440 0h160v-160H620v160ZM180-180h160v-160H180v160Zm440 0h160v-160H620v160Z\"/>\n",
              "  </svg>\n",
              "    </button>\n",
              "\n",
              "  <style>\n",
              "    .colab-df-container {\n",
              "      display:flex;\n",
              "      gap: 12px;\n",
              "    }\n",
              "\n",
              "    .colab-df-convert {\n",
              "      background-color: #E8F0FE;\n",
              "      border: none;\n",
              "      border-radius: 50%;\n",
              "      cursor: pointer;\n",
              "      display: none;\n",
              "      fill: #1967D2;\n",
              "      height: 32px;\n",
              "      padding: 0 0 0 0;\n",
              "      width: 32px;\n",
              "    }\n",
              "\n",
              "    .colab-df-convert:hover {\n",
              "      background-color: #E2EBFA;\n",
              "      box-shadow: 0px 1px 2px rgba(60, 64, 67, 0.3), 0px 1px 3px 1px rgba(60, 64, 67, 0.15);\n",
              "      fill: #174EA6;\n",
              "    }\n",
              "\n",
              "    .colab-df-buttons div {\n",
              "      margin-bottom: 4px;\n",
              "    }\n",
              "\n",
              "    [theme=dark] .colab-df-convert {\n",
              "      background-color: #3B4455;\n",
              "      fill: #D2E3FC;\n",
              "    }\n",
              "\n",
              "    [theme=dark] .colab-df-convert:hover {\n",
              "      background-color: #434B5C;\n",
              "      box-shadow: 0px 1px 3px 1px rgba(0, 0, 0, 0.15);\n",
              "      filter: drop-shadow(0px 1px 2px rgba(0, 0, 0, 0.3));\n",
              "      fill: #FFFFFF;\n",
              "    }\n",
              "  </style>\n",
              "\n",
              "    <script>\n",
              "      const buttonEl =\n",
              "        document.querySelector('#df-60385c89-297a-4836-94c1-086f77762e1b button.colab-df-convert');\n",
              "      buttonEl.style.display =\n",
              "        google.colab.kernel.accessAllowed ? 'block' : 'none';\n",
              "\n",
              "      async function convertToInteractive(key) {\n",
              "        const element = document.querySelector('#df-60385c89-297a-4836-94c1-086f77762e1b');\n",
              "        const dataTable =\n",
              "          await google.colab.kernel.invokeFunction('convertToInteractive',\n",
              "                                                    [key], {});\n",
              "        if (!dataTable) return;\n",
              "\n",
              "        const docLinkHtml = 'Like what you see? Visit the ' +\n",
              "          '<a target=\"_blank\" href=https://colab.research.google.com/notebooks/data_table.ipynb>data table notebook</a>'\n",
              "          + ' to learn more about interactive tables.';\n",
              "        element.innerHTML = '';\n",
              "        dataTable['output_type'] = 'display_data';\n",
              "        await google.colab.output.renderOutput(dataTable, element);\n",
              "        const docLink = document.createElement('div');\n",
              "        docLink.innerHTML = docLinkHtml;\n",
              "        element.appendChild(docLink);\n",
              "      }\n",
              "    </script>\n",
              "  </div>\n",
              "\n",
              "\n",
              "<div id=\"df-84ab4bb6-82ba-4459-b6af-e079f6113b2a\">\n",
              "  <button class=\"colab-df-quickchart\" onclick=\"quickchart('df-84ab4bb6-82ba-4459-b6af-e079f6113b2a')\"\n",
              "            title=\"Suggest charts\"\n",
              "            style=\"display:none;\">\n",
              "\n",
              "<svg xmlns=\"http://www.w3.org/2000/svg\" height=\"24px\"viewBox=\"0 0 24 24\"\n",
              "     width=\"24px\">\n",
              "    <g>\n",
              "        <path d=\"M19 3H5c-1.1 0-2 .9-2 2v14c0 1.1.9 2 2 2h14c1.1 0 2-.9 2-2V5c0-1.1-.9-2-2-2zM9 17H7v-7h2v7zm4 0h-2V7h2v10zm4 0h-2v-4h2v4z\"/>\n",
              "    </g>\n",
              "</svg>\n",
              "  </button>\n",
              "\n",
              "<style>\n",
              "  .colab-df-quickchart {\n",
              "      --bg-color: #E8F0FE;\n",
              "      --fill-color: #1967D2;\n",
              "      --hover-bg-color: #E2EBFA;\n",
              "      --hover-fill-color: #174EA6;\n",
              "      --disabled-fill-color: #AAA;\n",
              "      --disabled-bg-color: #DDD;\n",
              "  }\n",
              "\n",
              "  [theme=dark] .colab-df-quickchart {\n",
              "      --bg-color: #3B4455;\n",
              "      --fill-color: #D2E3FC;\n",
              "      --hover-bg-color: #434B5C;\n",
              "      --hover-fill-color: #FFFFFF;\n",
              "      --disabled-bg-color: #3B4455;\n",
              "      --disabled-fill-color: #666;\n",
              "  }\n",
              "\n",
              "  .colab-df-quickchart {\n",
              "    background-color: var(--bg-color);\n",
              "    border: none;\n",
              "    border-radius: 50%;\n",
              "    cursor: pointer;\n",
              "    display: none;\n",
              "    fill: var(--fill-color);\n",
              "    height: 32px;\n",
              "    padding: 0;\n",
              "    width: 32px;\n",
              "  }\n",
              "\n",
              "  .colab-df-quickchart:hover {\n",
              "    background-color: var(--hover-bg-color);\n",
              "    box-shadow: 0 1px 2px rgba(60, 64, 67, 0.3), 0 1px 3px 1px rgba(60, 64, 67, 0.15);\n",
              "    fill: var(--button-hover-fill-color);\n",
              "  }\n",
              "\n",
              "  .colab-df-quickchart-complete:disabled,\n",
              "  .colab-df-quickchart-complete:disabled:hover {\n",
              "    background-color: var(--disabled-bg-color);\n",
              "    fill: var(--disabled-fill-color);\n",
              "    box-shadow: none;\n",
              "  }\n",
              "\n",
              "  .colab-df-spinner {\n",
              "    border: 2px solid var(--fill-color);\n",
              "    border-color: transparent;\n",
              "    border-bottom-color: var(--fill-color);\n",
              "    animation:\n",
              "      spin 1s steps(1) infinite;\n",
              "  }\n",
              "\n",
              "  @keyframes spin {\n",
              "    0% {\n",
              "      border-color: transparent;\n",
              "      border-bottom-color: var(--fill-color);\n",
              "      border-left-color: var(--fill-color);\n",
              "    }\n",
              "    20% {\n",
              "      border-color: transparent;\n",
              "      border-left-color: var(--fill-color);\n",
              "      border-top-color: var(--fill-color);\n",
              "    }\n",
              "    30% {\n",
              "      border-color: transparent;\n",
              "      border-left-color: var(--fill-color);\n",
              "      border-top-color: var(--fill-color);\n",
              "      border-right-color: var(--fill-color);\n",
              "    }\n",
              "    40% {\n",
              "      border-color: transparent;\n",
              "      border-right-color: var(--fill-color);\n",
              "      border-top-color: var(--fill-color);\n",
              "    }\n",
              "    60% {\n",
              "      border-color: transparent;\n",
              "      border-right-color: var(--fill-color);\n",
              "    }\n",
              "    80% {\n",
              "      border-color: transparent;\n",
              "      border-right-color: var(--fill-color);\n",
              "      border-bottom-color: var(--fill-color);\n",
              "    }\n",
              "    90% {\n",
              "      border-color: transparent;\n",
              "      border-bottom-color: var(--fill-color);\n",
              "    }\n",
              "  }\n",
              "</style>\n",
              "\n",
              "  <script>\n",
              "    async function quickchart(key) {\n",
              "      const quickchartButtonEl =\n",
              "        document.querySelector('#' + key + ' button');\n",
              "      quickchartButtonEl.disabled = true;  // To prevent multiple clicks.\n",
              "      quickchartButtonEl.classList.add('colab-df-spinner');\n",
              "      try {\n",
              "        const charts = await google.colab.kernel.invokeFunction(\n",
              "            'suggestCharts', [key], {});\n",
              "      } catch (error) {\n",
              "        console.error('Error during call to suggestCharts:', error);\n",
              "      }\n",
              "      quickchartButtonEl.classList.remove('colab-df-spinner');\n",
              "      quickchartButtonEl.classList.add('colab-df-quickchart-complete');\n",
              "    }\n",
              "    (() => {\n",
              "      let quickchartButtonEl =\n",
              "        document.querySelector('#df-84ab4bb6-82ba-4459-b6af-e079f6113b2a button');\n",
              "      quickchartButtonEl.style.display =\n",
              "        google.colab.kernel.accessAllowed ? 'block' : 'none';\n",
              "    })();\n",
              "  </script>\n",
              "</div>\n",
              "\n",
              "  <div id=\"id_701a8b55-5e4f-474b-b513-f032eb11d7f2\">\n",
              "    <style>\n",
              "      .colab-df-generate {\n",
              "        background-color: #E8F0FE;\n",
              "        border: none;\n",
              "        border-radius: 50%;\n",
              "        cursor: pointer;\n",
              "        display: none;\n",
              "        fill: #1967D2;\n",
              "        height: 32px;\n",
              "        padding: 0 0 0 0;\n",
              "        width: 32px;\n",
              "      }\n",
              "\n",
              "      .colab-df-generate:hover {\n",
              "        background-color: #E2EBFA;\n",
              "        box-shadow: 0px 1px 2px rgba(60, 64, 67, 0.3), 0px 1px 3px 1px rgba(60, 64, 67, 0.15);\n",
              "        fill: #174EA6;\n",
              "      }\n",
              "\n",
              "      [theme=dark] .colab-df-generate {\n",
              "        background-color: #3B4455;\n",
              "        fill: #D2E3FC;\n",
              "      }\n",
              "\n",
              "      [theme=dark] .colab-df-generate:hover {\n",
              "        background-color: #434B5C;\n",
              "        box-shadow: 0px 1px 3px 1px rgba(0, 0, 0, 0.15);\n",
              "        filter: drop-shadow(0px 1px 2px rgba(0, 0, 0, 0.3));\n",
              "        fill: #FFFFFF;\n",
              "      }\n",
              "    </style>\n",
              "    <button class=\"colab-df-generate\" onclick=\"generateWithVariable('agrupado')\"\n",
              "            title=\"Generate code using this dataframe.\"\n",
              "            style=\"display:none;\">\n",
              "\n",
              "  <svg xmlns=\"http://www.w3.org/2000/svg\" height=\"24px\"viewBox=\"0 0 24 24\"\n",
              "       width=\"24px\">\n",
              "    <path d=\"M7,19H8.4L18.45,9,17,7.55,7,17.6ZM5,21V16.75L18.45,3.32a2,2,0,0,1,2.83,0l1.4,1.43a1.91,1.91,0,0,1,.58,1.4,1.91,1.91,0,0,1-.58,1.4L9.25,21ZM18.45,9,17,7.55Zm-12,3A5.31,5.31,0,0,0,4.9,8.1,5.31,5.31,0,0,0,1,6.5,5.31,5.31,0,0,0,4.9,4.9,5.31,5.31,0,0,0,6.5,1,5.31,5.31,0,0,0,8.1,4.9,5.31,5.31,0,0,0,12,6.5,5.46,5.46,0,0,0,6.5,12Z\"/>\n",
              "  </svg>\n",
              "    </button>\n",
              "    <script>\n",
              "      (() => {\n",
              "      const buttonEl =\n",
              "        document.querySelector('#id_701a8b55-5e4f-474b-b513-f032eb11d7f2 button.colab-df-generate');\n",
              "      buttonEl.style.display =\n",
              "        google.colab.kernel.accessAllowed ? 'block' : 'none';\n",
              "\n",
              "      buttonEl.onclick = () => {\n",
              "        google.colab.notebook.generateWithVariable('agrupado');\n",
              "      }\n",
              "      })();\n",
              "    </script>\n",
              "  </div>\n",
              "\n",
              "    </div>\n",
              "  </div>\n"
            ],
            "application/vnd.google.colaboratory.intrinsic+json": {
              "type": "dataframe",
              "variable_name": "agrupado",
              "summary": "{\n  \"name\": \"agrupado\",\n  \"rows\": 2,\n  \"fields\": [\n    {\n      \"column\": \"Vers\\u00e3o_P\\u00e1gina\",\n      \"properties\": {\n        \"dtype\": \"string\",\n        \"num_unique_values\": 2,\n        \"samples\": [\n          \"B\",\n          \"A\"\n        ],\n        \"semantic_type\": \"\",\n        \"description\": \"\"\n      }\n    },\n    {\n      \"column\": \"total_visualizacoes\",\n      \"properties\": {\n        \"dtype\": \"number\",\n        \"std\": 112,\n        \"min\": 150676,\n        \"max\": 150835,\n        \"num_unique_values\": 2,\n        \"samples\": [\n          150676,\n          150835\n        ],\n        \"semantic_type\": \"\",\n        \"description\": \"\"\n      }\n    },\n    {\n      \"column\": \"total_conversoes\",\n      \"properties\": {\n        \"dtype\": \"number\",\n        \"std\": 14,\n        \"min\": 105,\n        \"max\": 125,\n        \"num_unique_values\": 2,\n        \"samples\": [\n          125,\n          105\n        ],\n        \"semantic_type\": \"\",\n        \"description\": \"\"\n      }\n    },\n    {\n      \"column\": \"taxa_conversao_%\",\n      \"properties\": {\n        \"dtype\": \"number\",\n        \"std\": 0.009437734563962779,\n        \"min\": 0.06961249046971857,\n        \"max\": 0.08295946268815206,\n        \"num_unique_values\": 2,\n        \"samples\": [\n          0.08295946268815206,\n          0.06961249046971857\n        ],\n        \"semantic_type\": \"\",\n        \"description\": \"\"\n      }\n    }\n  ]\n}"
            }
          },
          "metadata": {},
          "execution_count": 2
        }
      ],
      "source": [
        "agrupado = experimento_df.groupby('Versão_Página').agg(\n",
        "    total_visualizacoes=('Visualizações', 'sum'),\n",
        "    total_conversoes=('Conversões', 'sum')\n",
        ")\n",
        "agrupado['taxa_conversao_%'] = (agrupado['total_conversoes'] / agrupado['total_visualizacoes']) * 100\n",
        "agrupado"
      ]
    },
    {
      "cell_type": "markdown",
      "id": "545cb14b",
      "metadata": {
        "id": "545cb14b"
      },
      "source": [
        "## Exercício 2: Cálculo do tamanho da amostra"
      ]
    },
    {
      "cell_type": "code",
      "execution_count": 3,
      "id": "6aaffa07",
      "metadata": {
        "colab": {
          "base_uri": "https://localhost:8080/"
        },
        "id": "6aaffa07",
        "outputId": "936fda5d-97e3-4835-88f5-761a076ddf64"
      },
      "outputs": [
        {
          "output_type": "execute_result",
          "data": {
            "text/plain": [
              "76"
            ]
          },
          "metadata": {},
          "execution_count": 3
        }
      ],
      "source": [
        "p1 = agrupado.loc['A', 'taxa_conversao_%'] / 100\n",
        "p2 = 0.10\n",
        "p_bar = (p1 + p2) / 2\n",
        "z_alpha = norm.ppf(1 - 0.05 / 2)\n",
        "z_beta = norm.ppf(0.80)\n",
        "n = (2 * ((z_alpha + z_beta)**2) * p_bar * (1 - p_bar)) / (p2 - p1)**2\n",
        "round(n)"
      ]
    },
    {
      "cell_type": "markdown",
      "id": "ba3c3547",
      "metadata": {
        "id": "ba3c3547"
      },
      "source": [
        "## Exercício 3: Teste t para média de idades"
      ]
    },
    {
      "cell_type": "code",
      "execution_count": 4,
      "id": "94d7a3e7",
      "metadata": {
        "colab": {
          "base_uri": "https://localhost:8080/"
        },
        "id": "94d7a3e7",
        "outputId": "d9a14816-84a2-4c30-a949-5bd8e386da51"
      },
      "outputs": [
        {
          "output_type": "execute_result",
          "data": {
            "text/plain": [
              "(np.float64(50.08888888888889),\n",
              " np.float64(0.052280983519350496),\n",
              " np.float64(0.4792707233816392))"
            ]
          },
          "metadata": {},
          "execution_count": 4
        }
      ],
      "source": [
        "indices_amostra = [909, 751, 402, 400, 726, 39, 184, 269, 255, 769, 209, 715, 677, 381,\n",
        "793, 697, 89, 280, 232, 756, 358, 36, 439, 768, 967, 699, 473, 222, 89, 639, 883,\n",
        "558, 757, 84, 907, 895, 217, 224, 311, 348, 146, 505, 273, 957, 362]\n",
        "amostra_idades = pacientes_df.loc[indices_amostra, 'Idade']\n",
        "t_stat, p_bi = ttest_1samp(amostra_idades, popmean=50)\n",
        "p_uni = p_bi / 2\n",
        "amostra_idades.mean(), t_stat, p_uni"
      ]
    },
    {
      "cell_type": "markdown",
      "id": "4bc1e901",
      "metadata": {
        "id": "4bc1e901"
      },
      "source": [
        "## Exercício 4: Tipo de Amostra"
      ]
    },
    {
      "cell_type": "markdown",
      "id": "c257c745",
      "metadata": {
        "id": "c257c745"
      },
      "source": [
        "A amostra é **independente**, pois compara dois grupos distintos sem pareamento."
      ]
    },
    {
      "cell_type": "markdown",
      "id": "75767859",
      "metadata": {
        "id": "75767859"
      },
      "source": [
        "## Exercício 5: Teste t entre dois grupos"
      ]
    },
    {
      "cell_type": "code",
      "execution_count": 5,
      "id": "dbc0cf3a",
      "metadata": {
        "colab": {
          "base_uri": "https://localhost:8080/"
        },
        "id": "dbc0cf3a",
        "outputId": "5b5a32df-f653-49f5-f427-39afb5560bf2"
      },
      "outputs": [
        {
          "output_type": "execute_result",
          "data": {
            "text/plain": [
              "(np.float64(153.19725449805927),\n",
              " np.float64(152.94305165531088),\n",
              " np.float64(0.08304391716460979),\n",
              " np.float64(0.9345291578970931))"
            ]
          },
          "metadata": {},
          "execution_count": 5
        }
      ],
      "source": [
        "indices_5 = [690, 894, 67, 201, 364, 19, 60, 319, 588, 643, 855, 623, 530, 174,\n",
        "105, 693, 6, 462, 973, 607, 811, 346, 354, 966, 943, 372]\n",
        "amostra_5 = pacientes_df.loc[indices_5]\n",
        "grupo_cond = amostra_5[amostra_5['Estado_Saude'] == 1]['Pressao_Arterial']\n",
        "grupo_saud = amostra_5[amostra_5['Estado_Saude'] == 0]['Pressao_Arterial']\n",
        "t_stat, p_valor = ttest_ind(grupo_cond, grupo_saud, equal_var=False)\n",
        "grupo_cond.mean(), grupo_saud.mean(), t_stat, p_valor"
      ]
    },
    {
      "cell_type": "markdown",
      "id": "568519f7",
      "metadata": {
        "id": "568519f7"
      },
      "source": [
        "## Exercício 6: Teste ANOVA"
      ]
    },
    {
      "cell_type": "code",
      "execution_count": 6,
      "id": "88faa01b",
      "metadata": {
        "colab": {
          "base_uri": "https://localhost:8080/"
        },
        "id": "88faa01b",
        "outputId": "a82252be-53d3-407e-dd5b-63d264bb048c"
      },
      "outputs": [
        {
          "output_type": "execute_result",
          "data": {
            "text/plain": [
              "(np.float64(0.23245296261596837), np.float64(0.873800123850745))"
            ]
          },
          "metadata": {},
          "execution_count": 6
        }
      ],
      "source": [
        "grupos_etnia = pacientes_df['Nome_Etnia'].unique()\n",
        "dados_etnia = [pacientes_df[pacientes_df['Nome_Etnia'] == e]['Pressao_Arterial'] for e in grupos_etnia]\n",
        "f_stat, p_valor = f_oneway(*dados_etnia)\n",
        "f_stat, p_valor"
      ]
    },
    {
      "cell_type": "markdown",
      "id": "c790ec30",
      "metadata": {
        "id": "c790ec30"
      },
      "source": [
        "## Exercício 7: Teste Qui-Quadrado"
      ]
    },
    {
      "cell_type": "code",
      "execution_count": 7,
      "id": "95edd207",
      "metadata": {
        "colab": {
          "base_uri": "https://localhost:8080/"
        },
        "id": "95edd207",
        "outputId": "5484e15a-8dcd-4a38-dbee-c113dc7b4c66"
      },
      "outputs": [
        {
          "output_type": "execute_result",
          "data": {
            "text/plain": [
              "(Nome_Estado_Saude  Com condições de saúde adicionais  Saudável\n",
              " Nome_Genero                                                   \n",
              " Feminino                                         257       246\n",
              " Masculino                                        253       244,\n",
              " np.float64(0.0),\n",
              " np.float64(1.0))"
            ]
          },
          "metadata": {},
          "execution_count": 7
        }
      ],
      "source": [
        "contingencia = pd.crosstab(pacientes_df['Nome_Genero'], pacientes_df['Nome_Estado_Saude'])\n",
        "chi2, p, dof, expected = chi2_contingency(contingencia)\n",
        "contingencia, chi2, p"
      ]
    },
    {
      "cell_type": "markdown",
      "id": "041945f4",
      "metadata": {
        "id": "041945f4"
      },
      "source": [
        "## Exercício 8: Correlação entre idade e pressão arterial"
      ]
    },
    {
      "cell_type": "code",
      "execution_count": 8,
      "id": "f01c9c08",
      "metadata": {
        "colab": {
          "base_uri": "https://localhost:8080/"
        },
        "id": "f01c9c08",
        "outputId": "a673ddb1-1c10-4eb3-a5e5-6fb0e3736c85"
      },
      "outputs": [
        {
          "output_type": "execute_result",
          "data": {
            "text/plain": [
              "(np.float64(-0.02138535693464897), np.float64(0.49936082120556174))"
            ]
          },
          "metadata": {},
          "execution_count": 8
        }
      ],
      "source": [
        "correlacao, p_valor = pearsonr(pacientes_df['Idade'], pacientes_df['Pressao_Arterial'])\n",
        "correlacao, p_valor"
      ]
    },
    {
      "cell_type": "markdown",
      "id": "506126c8",
      "metadata": {
        "id": "506126c8"
      },
      "source": [
        "## Exercício 9: Intervalo de confiança para pressão arterial"
      ]
    },
    {
      "cell_type": "code",
      "execution_count": 9,
      "id": "65dc31be",
      "metadata": {
        "colab": {
          "base_uri": "https://localhost:8080/"
        },
        "id": "65dc31be",
        "outputId": "aab148d9-eac6-4080-edd1-e896cfcc3f58"
      },
      "outputs": [
        {
          "output_type": "execute_result",
          "data": {
            "text/plain": [
              "(np.float64(149.21972443653837), np.float64(151.01717945377672))"
            ]
          },
          "metadata": {},
          "execution_count": 9
        }
      ],
      "source": [
        "grupo = pacientes_df[pacientes_df['Estado_Saude'] == 1]['Pressao_Arterial']\n",
        "media = grupo.mean()\n",
        "std = grupo.std()\n",
        "n = grupo.count()\n",
        "t_crit = t.ppf(1 - 0.05/2, df=n-1)\n",
        "margem = t_crit * (std / np.sqrt(n))\n",
        "(media - margem, media + margem)"
      ]
    },
    {
      "cell_type": "markdown",
      "id": "7dfa3828",
      "metadata": {
        "id": "7dfa3828"
      },
      "source": [
        "## Exercício 10: Teste de normalidade (Shapiro-Wilk)"
      ]
    },
    {
      "cell_type": "code",
      "execution_count": 10,
      "id": "f65066b0",
      "metadata": {
        "colab": {
          "base_uri": "https://localhost:8080/"
        },
        "id": "f65066b0",
        "outputId": "8974bc01-46e6-4594-c3e4-36b6632dd4e6"
      },
      "outputs": [
        {
          "output_type": "execute_result",
          "data": {
            "text/plain": [
              "ShapiroResult(statistic=np.float64(0.9970366758795889), pvalue=np.float64(0.060729578232028174))"
            ]
          },
          "metadata": {},
          "execution_count": 10
        }
      ],
      "source": [
        "shapiro(pacientes_df['Pressao_Arterial'])"
      ]
    }
  ],
  "metadata": {
    "colab": {
      "provenance": [],
      "include_colab_link": true
    },
    "language_info": {
      "name": "python"
    },
    "kernelspec": {
      "name": "python3",
      "display_name": "Python 3"
    }
  },
  "nbformat": 4,
  "nbformat_minor": 5
}